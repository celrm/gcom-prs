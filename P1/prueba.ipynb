{
 "cells": [
  {
   "cell_type": "markdown",
   "metadata": {},
   "source": [
    "# Práctica 1"
   ]
  },
  {
   "cell_type": "code",
   "execution_count": 21,
   "metadata": {},
   "outputs": [],
   "source": [
    "import matplotlib.pyplot as plt\n",
    "import numpy as np"
   ]
  },
  {
   "cell_type": "code",
   "execution_count": 22,
   "metadata": {},
   "outputs": [],
   "source": [
    "def logistica(x):\n",
    "    return R*x*(1-x)\n",
    "    \n",
    "def orbita(x0, f, n):\n",
    "    orb = np.empty([n])\n",
    "    orb[0] = f(x0)\n",
    "    for i in range(n - 1):\n",
    "        orb[i + 1] = f(orb[i])\n",
    "    return orb\n",
    "\n",
    "def tiempo_transitorio(orb, epsilon=0.001):\n",
    "    m = 0\n",
    "    next_sup, next_inf = max(orb[m + N : m + 2 * N]), min(orb[m + N : m + 2 * N])\n",
    "    while m+N <= N0:\n",
    "        sup, inf = max(orb[m : m + N]), min(orb[m : m + N])\n",
    "        if abs((sup - inf) - (next_sup - next_inf)) < epsilon:\n",
    "            return m\n",
    "        m =+ N\n",
    "        next_sup, next_inf = sup, inf\n",
    "    return N0\n",
    "    \n",
    "def periodo(suborb, epsilon=0.001):\n",
    "    n = len(suborb)\n",
    "    for i in range(1, n):\n",
    "        if abs(suborb[n - 1] - suborb[n - i - 1]) < epsilon:\n",
    "            return i\n",
    "    return n\n",
    "\n",
    "def atrac(x0, f, epsilon=0.001):\n",
    "    orb = orbita(x0, f, N0)\n",
    "    m = tiempo_transitorio(orb, epsilon)\n",
    "    suborb = orb[-m:]\n",
    "    p = periodo(suborb, epsilon)\n",
    "    v0 = np.sort(suborb[-p:])\n",
    "    return v0"
   ]
  },
  {
   "cell_type": "code",
   "execution_count": 23,
   "metadata": {},
   "outputs": [],
   "source": [
    "eps = 0.001\n",
    "\n",
    "N0 = 200  # nuestra capacidad de cómputo máxima\n",
    "N = 50  # sabemos de antemano que nuestro conjunto será menor que esto"
   ]
  },
  {
   "cell_type": "markdown",
   "metadata": {},
   "source": [
    "## Apartado i)"
   ]
  },
  {
   "cell_type": "code",
   "execution_count": 24,
   "metadata": {},
   "outputs": [],
   "source": [
    "def equals(v1,v2, epsilon=0.001):\n",
    "    for i,j in zip(v1,v2):\n",
    "        if abs(i-j) >= epsilon:\n",
    "            return False\n",
    "    return True\n",
    "    \n",
    "def test_V0(v0, epsilon=0.001):\n",
    "    global R\n",
    "    r = R\n",
    "    print(v0)\n",
    "\n",
    "    for x0 in np.arange(epsilon,1,epsilon):\n",
    "        v1 = atrac(x0, logistica, epsilon)\n",
    "        if not equals(v0,v1,epsilon):\n",
    "            print(\"X0\",x0,\"not stable\")\n",
    "\n",
    "    for delta in np.arange(epsilon,1,epsilon):\n",
    "        R = r+delta\n",
    "        v1 = atrac(0.2, logistica, epsilon)\n",
    "        if not equals(v0,v1,epsilon):\n",
    "            print(\"R\",R,\"is different\")\n",
    "            print(\"\\t\",v0)\n",
    "            print(\"\\t\",v1)\n",
    "            break\n",
    "    \n",
    "    for delta in np.arange(epsilon,1,epsilon):\n",
    "        R = r-delta\n",
    "        v1 = atrac(0.2, logistica, epsilon)\n",
    "        if not equals(v0,v1,epsilon):\n",
    "            print(\"R\",R,\"is different\")\n",
    "            print(\"\\t\",v0)\n",
    "            print(\"\\t\",v1)\n",
    "            break\n",
    "    R = r"
   ]
  },
  {
   "cell_type": "code",
   "execution_count": 25,
   "metadata": {},
   "outputs": [
    {
     "name": "stdout",
     "output_type": "stream",
     "text": [
      "[0.53800722 0.78046412]\n",
      "R 3.1430000000000002 is different\n",
      "\t [0.53800722 0.78046412]\n",
      "\t [0.53663584 0.78153151]\n",
      "R 3.137 is different\n",
      "\t [0.53800722 0.78046412]\n",
      "\t [0.53939423 0.77938167]\n"
     ]
    }
   ],
   "source": [
    "R = 3.14\n",
    "v0 = atrac(0.2, logistica, eps)\n",
    "test_V0(v0, eps)"
   ]
  },
  {
   "cell_type": "code",
   "execution_count": 26,
   "metadata": {},
   "outputs": [
    {
     "name": "stdout",
     "output_type": "stream",
     "text": [
      "[0.38281968 0.50088421 0.82694071 0.87499726]\n",
      "R 3.502 is different\n",
      "\t [0.38281968 0.50088421 0.82694071 0.87499726]\n",
      "\t [0.38175748 0.50209314 0.82653751 0.87548466]\n",
      "R 3.498 is different\n",
      "\t [0.38281968 0.50088421 0.82694071 0.87499726]\n",
      "\t [0.38390574 0.49965119 0.82735439 0.87449957]\n"
     ]
    }
   ],
   "source": [
    "R = 3.5\n",
    "v0 = atrac(0.2, logistica, eps)\n",
    "test_V0(v0, eps)"
   ]
  },
  {
   "cell_type": "markdown",
   "metadata": {},
   "source": [
    "## Apartado ii)"
   ]
  },
  {
   "cell_type": "code",
   "execution_count": 27,
   "metadata": {},
   "outputs": [
    {
     "name": "stdout",
     "output_type": "stream",
     "text": [
      "R 3.5479999999999996 \t [0.35647172 0.36914795 0.50935376 0.53738213 0.8139099  0.82625023\n",
      " 0.88204194 0.88668958]\n",
      "R 3.5489999999999995 \t [0.35559752 0.3697755  0.5076091  0.53901131 0.81324598 0.82706457\n",
      " 0.88184884 0.88704452]\n",
      "R 3.5499999999999994 \t [0.35480045 0.37032556 0.50603051 0.54047483 0.81265567 0.82780512\n",
      " 0.88168435 0.8873709 ]\n",
      "R 3.5509999999999993 \t [0.35406177 0.37081688 0.50457711 0.54181346 0.81212092 0.82848992\n",
      " 0.88154155 0.88767561]\n",
      "R 3.551999999999999 \t [0.35336938 0.37126157 0.50322259 0.54305351 0.81163009 0.82913063\n",
      " 0.881416   0.88796311]\n",
      "R 3.552999999999999 \t [0.35271489 0.37166804 0.50194874 0.54421319 0.81117511 0.82973531\n",
      " 0.88130457 0.88823651]\n",
      "R 3.553999999999999 \t [0.35209219 0.37204237 0.50074235 0.54530569 0.81075014 0.83030981\n",
      " 0.88120504 0.88849804]\n",
      "R 3.554999999999999 \t [0.35149669 0.37238919 0.4995935  0.54634095 0.81035076 0.83085853\n",
      " 0.8811157  0.88874941]\n",
      "R 3.5559999999999987 \t [0.35092482 0.37271206 0.49849446 0.54732669 0.80997356 0.8313849\n",
      " 0.88103522 0.88899194]\n",
      "R 3.5569999999999986 \t [0.35037374 0.37301382 0.49743913 0.54826903 0.80961582 0.83189164\n",
      " 0.88096255 0.88922667]\n",
      "R 3.5579999999999985 \t [0.34984113 0.3732968  0.49642254 0.54917291 0.80927534 0.83238093\n",
      " 0.88089685 0.88945446]\n",
      "R 3.5589999999999984 \t [0.34932511 0.37356288 0.49544062 0.55004242 0.8089503  0.8328546\n",
      " 0.8808374  0.88967602]\n",
      "R 3.5599999999999983 \t [0.34882409 0.37381367 0.49448996 0.55088096 0.8086392  0.83331416\n",
      " 0.88078361 0.88989192]\n",
      "R 3.560999999999998 \t [0.34833672 0.37405047 0.49356755 0.55169138 0.80834077 0.83376085\n",
      " 0.88073501 0.89010266]\n",
      "R 3.561999999999998 \t [0.34786246 0.37427303 0.49266693 0.55247474 0.80805454 0.8341945\n",
      " 0.88069168 0.89030846]\n",
      "R 3.562999999999998 \t [0.34741288 0.37445138 0.4917104  0.55320313 0.80779328 0.83458837\n",
      " 0.88066467 0.89050516]\n"
     ]
    }
   ],
   "source": [
    "R = 3.544\n",
    "\n",
    "for r in np.arange(3.544,4,eps):\n",
    "    R = r\n",
    "    v0 = atrac(0.2, logistica, eps)\n",
    "\n",
    "    if len(v0) == 8:\n",
    "        test = True\n",
    "        v1 = atrac(0.2+eps, logistica, eps)\n",
    "        if not equals(v0,v1,eps):\n",
    "            test = False\n",
    "        v1 = atrac(0.2-eps, logistica, eps)\n",
    "        if not equals(v0,v1,eps):\n",
    "            test = False\n",
    "        if test:\n",
    "            print(\"R\",R,\"\\t\",v0)"
   ]
  }
 ],
 "metadata": {
  "interpreter": {
   "hash": "916dbcbb3f70747c44a77c7bcd40155683ae19c65e1c03b4aa3499c5328201f1"
  },
  "kernelspec": {
   "display_name": "Python 3.8.10 64-bit",
   "language": "python",
   "name": "python3"
  },
  "language_info": {
   "codemirror_mode": {
    "name": "ipython",
    "version": 3
   },
   "file_extension": ".py",
   "mimetype": "text/x-python",
   "name": "python",
   "nbconvert_exporter": "python",
   "pygments_lexer": "ipython3",
   "version": "3.8.10"
  },
  "orig_nbformat": 4
 },
 "nbformat": 4,
 "nbformat_minor": 2
}
